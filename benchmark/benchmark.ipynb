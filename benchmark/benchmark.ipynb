{
 "cells": [
  {
   "attachments": {},
   "cell_type": "markdown",
   "metadata": {},
   "source": [
    "# Instancias"
   ]
  },
  {
   "cell_type": "code",
   "execution_count": null,
   "metadata": {},
   "outputs": [],
   "source": [
    "from subprocess import check_output\n",
    "import string\n",
    "import random\n",
    "import os\n",
    "\n",
    "def random_word(length):\n",
    "    letters = string.ascii_lowercase\n",
    "    return ''.join(random.choice(letters) for i in range(length))\n",
    "\n",
    "def wc(filename):\n",
    "    return int(check_output([\"wc\", \"-l\", filename]).split()[0])\n",
    "\n",
    "def load_dir(directory):\n",
    "    paths = sorted(os.listdir(directory))\n",
    "    file_paths = [os.path.join(directory, filename) for filename in paths]\n",
    "    word_count = [wc(file_path) for file_path in file_paths]\n",
    "    return file_paths, word_count"
   ]
  },
  {
   "cell_type": "code",
   "execution_count": null,
   "metadata": {},
   "outputs": [],
   "source": [
    "# Random\n",
    "for i in range(0, 20):\n",
    "    n = 2**i\n",
    "    f = open('./data/random_incremental/random_inc_{:03d}.txt'.format(i), 'w+')\n",
    "    for j in range(n):\n",
    "        f.write(random_word(3) + '\\n')\n",
    "\n",
    "for i in range(1,101):\n",
    "    f = open('./data/random_fixed/random_fix_{:03d}.txt'.format(i), 'w+')\n",
    "    for j in range(0,100):\n",
    "        f.write(random_word(3) + '\\n')\n",
    "\n",
    "# Colisiones\n",
    "def words(length):\n",
    "    if length == 1:\n",
    "        return string.ascii_lowercase\n",
    "    else:\n",
    "        result = []\n",
    "        for word in words(length - 1):\n",
    "            result = result + [word + letter for letter in string.ascii_lowercase]\n",
    "        return result\n",
    "\n",
    "\n",
    "f = open('./data/collision/collision.txt', 'w+')\n",
    "for word in words(3):\n",
    "    f.write(word + '\\n')"
   ]
  },
  {
   "attachments": {},
   "cell_type": "markdown",
   "metadata": {},
   "source": [
    "# Experimentacion"
   ]
  },
  {
   "cell_type": "code",
   "execution_count": null,
   "metadata": {},
   "outputs": [],
   "source": [
    "!cd .. && make clean && make benchmark"
   ]
  },
  {
   "cell_type": "code",
   "execution_count": null,
   "metadata": {},
   "outputs": [],
   "source": [
    "import subprocess\n",
    "\n",
    "def run(files, load_threads, max_threads, times):\n",
    "    args = ['../build/ContarPalabras', '{}'.format(load_threads), '{}'.format(max_threads)] + files\n",
    "    times_load = 0.0\n",
    "    times_max = 0.0\n",
    "    for t in range(times):        \n",
    "        proc = subprocess.Popen(args, stdout=subprocess.PIPE)\n",
    "        out = proc.stdout.readline().split()[0].decode('UTF-8').split(',')\n",
    "        times_load += float(out[0])\n",
    "        times_max += float(out[1])\n",
    "    return times_load/times,times_max/times"
   ]
  },
  {
   "cell_type": "code",
   "execution_count": null,
   "metadata": {},
   "outputs": [],
   "source": [
    "import numpy as np\n",
    "headers = 'file_count,word_count,threads_load,threads_max,time_load,time_max\\n'"
   ]
  },
  {
   "attachments": {},
   "cell_type": "markdown",
   "metadata": {},
   "source": [
    "### Random"
   ]
  },
  {
   "cell_type": "code",
   "execution_count": null,
   "metadata": {},
   "outputs": [],
   "source": [
    "random_inc_results = open('./results/random_inc.csv', 'w+')\n",
    "random_inc_results.write(headers)\n",
    "\n",
    "file_paths, word_count = load_dir('./data/random_incremental/')\n",
    "# Cantidad de threads maximo, 1 archivo\n",
    "threads_load = 1\n",
    "for threads_max in range(1,16):\n",
    "    load_time, max_time = run([file_paths[-1]], threads_load, threads_max, 3)\n",
    "    random_inc_results.write('{},{},{},{},{},{}\\n'.format(1,word_count[-4],threads_load,threads_max,load_time,max_time))\n",
    "\n",
    "random_inc_results.close()"
   ]
  },
  {
   "cell_type": "code",
   "execution_count": null,
   "metadata": {},
   "outputs": [],
   "source": [
    "random_fix_load_results = open('./results/random_fix_load.csv', 'w+')\n",
    "random_fix_load_results.write(headers)\n",
    "\n",
    "file_paths, word_count = load_dir('./data/random_fixed/')\n",
    "threads_max = 4\n",
    "for j in range(0,5):\n",
    "    threads_to_load = 2**j\n",
    "    for i in range(1,len(file_paths)+1):\n",
    "        load_time, max_time = run(file_paths[0:i], threads_to_load, threads_max, 10)\n",
    "        random_fix_load_results.write('{},{},{},{},{},{}\\n'.format(i,np.sum(word_count[0:i]),threads_to_load,threads_max,load_time,max_time))\n",
    "\n",
    "random_fix_load_results.close()"
   ]
  },
  {
   "cell_type": "code",
   "execution_count": null,
   "metadata": {},
   "outputs": [],
   "source": [
    "random_fix_max_results = open('./results/random_fix_max.csv', 'w+')\n",
    "random_fix_max_results.write(headers)\n",
    "\n",
    "threads_to_load = 16\n",
    "for j in range(0,5):\n",
    "    threads_to_max = 2**j\n",
    "    for i in range(1,len(file_paths)+1):\n",
    "        load_time, max_time = run(file_paths[0:i], threads_to_load, threads_to_max, 3)\n",
    "        random_fix_max_results.write('{},{},{},{},{},{}\\n'.format(i,np.sum(word_count[0:i]),threads_to_load,threads_max,load_time,max_time))\n",
    "\n",
    "random_fix_max_results.close()"
   ]
  },
  {
   "attachments": {},
   "cell_type": "markdown",
   "metadata": {},
   "source": [
    "## Colisiones"
   ]
  },
  {
   "cell_type": "code",
   "execution_count": null,
   "metadata": {},
   "outputs": [],
   "source": [
    "colisiones_max_results = open('./results/colisiones_max.csv', 'w+')\n",
    "colisiones_max_results.write(headers)\n",
    "\n",
    "file_paths, word_count = load_dir('./data/collision/')\n",
    "\n",
    "threads_to_load = 1\n",
    "for threads_to_max in range(1, 8):\n",
    "    load_time, max_time = run(file_paths[0:1], threads_load, threads_to_max, 4)\n",
    "    colisiones_max_results.write('{},{},{},{},{},{}\\n'.format(i,np.sum(word_count[0:1]),threads_to_load,threads_to_max,load_time,max_time))\n",
    "\n",
    "colisiones_max_results.close()"
   ]
  },
  {
   "cell_type": "code",
   "execution_count": null,
   "metadata": {},
   "outputs": [],
   "source": [
    "import pandas as pd\n",
    "import matplotlib.pyplot as plt\n",
    "import seaborn as sns"
   ]
  },
  {
   "cell_type": "code",
   "execution_count": null,
   "metadata": {},
   "outputs": [],
   "source": [
    "df = pd.read_csv('./results/colisiones_max.csv')\n",
    "sns.scatterplot(df, x='threads_max', y='time_max')\n",
    "\n",
    "plt.xlabel('Cantidad de threads máximo')\n",
    "plt.ylabel('Tiempo para calcular máximo (ms)')\n",
    "\n",
    "plt.tight_layout()\n",
    "plt.savefig('./graphs/colisiones_vs_threads')"
   ]
  },
  {
   "cell_type": "code",
   "execution_count": null,
   "metadata": {},
   "outputs": [],
   "source": [
    "df = pd.read_csv('./results/random_inc.csv')\n",
    "sns.scatterplot(df, x='threads_max', y='time_max')\n",
    "\n",
    "plt.xlabel('Cantidad de threads máximo')\n",
    "plt.ylabel('Tiempo para calcular máximo (ms)')\n",
    "\n",
    "plt.tight_layout()\n",
    "plt.savefig('./graphs/ttm_vs_threads')"
   ]
  },
  {
   "cell_type": "code",
   "execution_count": null,
   "metadata": {},
   "outputs": [],
   "source": [
    "df = pd.read_csv('./results/random_fix_load.csv')\n",
    "sns.scatterplot(df, x='file_count', y='time_load', hue='threads_load', label='#Threads lectura')\n",
    "plt.legend()\n",
    "plt.xlabel('Cantidad de archivos')\n",
    "plt.ylabel('Time to load(ms)')\n",
    "\n",
    "plt.tight_layout()\n",
    "plt.savefig('./graphs/ttl_vs_file_count')"
   ]
  }
 ],
 "metadata": {
  "kernelspec": {
   "display_name": "sisop",
   "language": "python",
   "name": "python3"
  },
  "language_info": {
   "codemirror_mode": {
    "name": "ipython",
    "version": 3
   },
   "file_extension": ".py",
   "mimetype": "text/x-python",
   "name": "python",
   "nbconvert_exporter": "python",
   "pygments_lexer": "ipython3",
   "version": "3.10.11"
  },
  "orig_nbformat": 4
 },
 "nbformat": 4,
 "nbformat_minor": 2
}
